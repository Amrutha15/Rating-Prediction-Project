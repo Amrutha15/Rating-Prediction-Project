{
 "cells": [
  {
   "cell_type": "code",
   "execution_count": 16,
   "id": "1ba56d75",
   "metadata": {},
   "outputs": [],
   "source": [
    "# Importing Libraries/Dependencies\n",
    "import selenium\n",
    "import pandas as pd\n",
    "import time\n",
    "import requests\n",
    "from selenium import webdriver\n",
    "from  bs4 import BeautifulSoup\n",
    "from selenium.webdriver.common.by import By\n",
    "from selenium.webdriver.common.keys import Keys\n",
    "from selenium.webdriver.support.ui import WebDriverWait\n",
    "from selenium.common.exceptions import NoSuchElementException\n",
    "from selenium.webdriver.support import expected_conditions as EC\n",
    "from selenium.webdriver.common.action_chains import ActionChains\n",
    "from selenium.common.exceptions import StaleElementReferenceException\n",
    "from tqdm import tqdm as progressbar #for progress bar"
   ]
  },
  {
   "cell_type": "code",
   "execution_count": 11,
   "id": "fae66e30",
   "metadata": {},
   "outputs": [
    {
     "name": "stderr",
     "output_type": "stream",
     "text": [
      "<ipython-input-11-e0944de245e4>:2: DeprecationWarning: executable_path has been deprecated, please pass in a Service object\n",
      "  driver = webdriver.Chrome(r\"C:\\Users\\lenovo\\Downloads\\chromedriver_win32 (2)\\chromedriver.exe\")\n"
     ]
    }
   ],
   "source": [
    "# Connecting to the webdriver \n",
    "driver = webdriver.Chrome(r\"C:\\Users\\lenovo\\Downloads\\chromedriver_win32 (2)\\chromedriver.exe\") \n",
    "driver.maximize_window()        # Maximizing the window"
   ]
  },
  {
   "cell_type": "markdown",
   "id": "2028cef0",
   "metadata": {},
   "source": [
    "# Laptops"
   ]
  },
  {
   "cell_type": "code",
   "execution_count": 12,
   "id": "1e55daa7",
   "metadata": {},
   "outputs": [],
   "source": [
    "# Scraping Rating and Reviews of laptops from URL\n",
    "url='https://www.flipkart.com/asus-celeron-dual-core-4-gb-1-tb-hdd-windows-10-home-x543ma-gq1015t-laptop/product-reviews/itmf8811674edbeb?pid=COMFSKF9UQH8RKYF&lid=LSTCOMFSKF9UQH8RKYFK8UKIL&marketplace=FLIPKART'\n",
    "# send get request to the webpage server to get the source code of the page\n",
    "driver.get(url)\n",
    "time.sleep(4)"
   ]
  },
  {
   "cell_type": "code",
   "execution_count": 13,
   "id": "db273d77",
   "metadata": {},
   "outputs": [],
   "source": [
    "# Maximize current window\n",
    "driver.maximize_window()"
   ]
  },
  {
   "cell_type": "code",
   "execution_count": 14,
   "id": "e09d7fb6",
   "metadata": {},
   "outputs": [],
   "source": [
    "# creating empty lists\n",
    "ratings1=[]\n",
    "full_review1=[]"
   ]
  },
  {
   "cell_type": "code",
   "execution_count": 17,
   "id": "e82162ee",
   "metadata": {},
   "outputs": [
    {
     "name": "stderr",
     "output_type": "stream",
     "text": [
      "  0%|                                                                                          | 0/161 [00:00<?, ?it/s]<ipython-input-17-454dc9530611>:2: DeprecationWarning: find_elements_by_* commands are deprecated. Please use find_elements() instead\n",
      "  for j in driver.find_elements_by_xpath(\"//div[@class='_3LWZlK _1BLPMq' or @class='_3LWZlK _32lA32 _1BLPMq' or @class='_3LWZlK _1rdVr6 _1BLPMq']\"):\n",
      "<ipython-input-17-454dc9530611>:5: DeprecationWarning: find_elements_by_* commands are deprecated. Please use find_elements() instead\n",
      "  for k in driver.find_elements_by_xpath(\"//div[@class='t-ZTKy']/div/div\"):\n",
      "<ipython-input-17-454dc9530611>:8: DeprecationWarning: find_element_by_* commands are deprecated. Please use find_element() instead\n",
      "  button=driver.find_element_by_xpath(\"//*[contains(text(), 'Next')]\")\n",
      "100%|████████████████████████████████████████████████████████████████████████████████| 161/161 [06:09<00:00,  2.29s/it]\n"
     ]
    }
   ],
   "source": [
    "for i in progressbar(range(0,161)): \n",
    "    for j in driver.find_elements_by_xpath(\"//div[@class='_3LWZlK _1BLPMq' or @class='_3LWZlK _32lA32 _1BLPMq' or @class='_3LWZlK _1rdVr6 _1BLPMq']\"):\n",
    "        ratings1.append(j.text)\n",
    "        \n",
    "    for k in driver.find_elements_by_xpath(\"//div[@class='t-ZTKy']/div/div\"):\n",
    "        full_review1.append(k.text.replace('\\n',' '))\n",
    "    \n",
    "    button=driver.find_element_by_xpath(\"//*[contains(text(), 'Next')]\")\n",
    "    driver.execute_script(\"arguments[0].click();\", button)\n",
    "    \n",
    "    time.sleep(2)"
   ]
  },
  {
   "cell_type": "code",
   "execution_count": 18,
   "id": "7b31f9e3",
   "metadata": {},
   "outputs": [],
   "source": [
    "# Scraping Rating and Reviews of laptops from different URL\n",
    "url='https://www.flipkart.com/asus-vivobook-ultra-14-core-i3-10th-gen-4-gb-512-gb-ssd-windows-10-home-x413ja-ek268t-x413ja-eb303t-thin-light-laptop/product-reviews/itm1c8e9d0ab97a4?pid=COMFTWZDNEXY33HG&lid=LSTCOMFTWZDNEXY33HGCWAGB2&marketplace=FLIPKART'\n",
    "# send get request to the webpage server to get the source code of the page\n",
    "driver.get(url)\n",
    "time.sleep(4)"
   ]
  },
  {
   "cell_type": "code",
   "execution_count": 19,
   "id": "8ada0786",
   "metadata": {},
   "outputs": [
    {
     "name": "stderr",
     "output_type": "stream",
     "text": [
      "  0%|                                                                                           | 0/58 [00:00<?, ?it/s]<ipython-input-19-7957102a317a>:2: DeprecationWarning: find_elements_by_* commands are deprecated. Please use find_elements() instead\n",
      "  for j in driver.find_elements_by_xpath(\"//div[@class='_3LWZlK _1BLPMq' or @class='_3LWZlK _32lA32 _1BLPMq' or @class='_3LWZlK _1rdVr6 _1BLPMq']\"):\n",
      "<ipython-input-19-7957102a317a>:5: DeprecationWarning: find_elements_by_* commands are deprecated. Please use find_elements() instead\n",
      "  for k in driver.find_elements_by_xpath(\"//div[@class='t-ZTKy']/div/div\"):\n",
      "<ipython-input-19-7957102a317a>:8: DeprecationWarning: find_element_by_* commands are deprecated. Please use find_element() instead\n",
      "  button=driver.find_element_by_xpath(\"//*[contains(text(), 'Next')]\")\n",
      "100%|██████████████████████████████████████████████████████████████████████████████████| 58/58 [02:14<00:00,  2.32s/it]\n"
     ]
    }
   ],
   "source": [
    "for i in progressbar(range(0,58)): \n",
    "    for j in driver.find_elements_by_xpath(\"//div[@class='_3LWZlK _1BLPMq' or @class='_3LWZlK _32lA32 _1BLPMq' or @class='_3LWZlK _1rdVr6 _1BLPMq']\"):\n",
    "        ratings1.append(j.text)\n",
    "        \n",
    "    for k in driver.find_elements_by_xpath(\"//div[@class='t-ZTKy']/div/div\"):\n",
    "        full_review1.append(k.text.replace('\\n',' '))\n",
    "    \n",
    "    button=driver.find_element_by_xpath(\"//*[contains(text(), 'Next')]\")\n",
    "    driver.execute_script(\"arguments[0].click();\", button)\n",
    "    \n",
    "    time.sleep(2)"
   ]
  },
  {
   "cell_type": "code",
   "execution_count": 20,
   "id": "9085d302",
   "metadata": {},
   "outputs": [],
   "source": [
    "# Scraping Rating and Reviews of laptops from different URL\n",
    "url='https://www.flipkart.com/hp-chromebook-mediatek-kompanio-500-4-gb-64-gb-emmc-storage-chrome-os-11a-na0002mu/product-reviews/itm92093a75fc716?pid=COMGYJYYA7FFRXZC&lid=LSTCOMGYJYYA7FFRXZCPGLPBY&marketplace=FLIPKART'\n",
    "# send get request to the webpage server to get the source code of the page\n",
    "driver.get(url)\n",
    "time.sleep(4)"
   ]
  },
  {
   "cell_type": "code",
   "execution_count": 21,
   "id": "36d52417",
   "metadata": {},
   "outputs": [
    {
     "name": "stderr",
     "output_type": "stream",
     "text": [
      "  0%|                                                                                           | 0/41 [00:00<?, ?it/s]<ipython-input-21-7a44354f3075>:2: DeprecationWarning: find_elements_by_* commands are deprecated. Please use find_elements() instead\n",
      "  for j in driver.find_elements_by_xpath(\"//div[@class='_3LWZlK _1BLPMq' or @class='_3LWZlK _32lA32 _1BLPMq' or @class='_3LWZlK _1rdVr6 _1BLPMq']\"):\n",
      "<ipython-input-21-7a44354f3075>:5: DeprecationWarning: find_elements_by_* commands are deprecated. Please use find_elements() instead\n",
      "  for k in driver.find_elements_by_xpath(\"//div[@class='t-ZTKy']/div/div\"):\n",
      "<ipython-input-21-7a44354f3075>:8: DeprecationWarning: find_element_by_* commands are deprecated. Please use find_element() instead\n",
      "  button=driver.find_element_by_xpath(\"//*[contains(text(), 'Next')]\")\n",
      "100%|██████████████████████████████████████████████████████████████████████████████████| 41/41 [01:34<00:00,  2.31s/it]\n"
     ]
    }
   ],
   "source": [
    "for i in progressbar(range(0,41)): \n",
    "    for j in driver.find_elements_by_xpath(\"//div[@class='_3LWZlK _1BLPMq' or @class='_3LWZlK _32lA32 _1BLPMq' or @class='_3LWZlK _1rdVr6 _1BLPMq']\"):\n",
    "        ratings1.append(j.text)\n",
    "        \n",
    "    for k in driver.find_elements_by_xpath(\"//div[@class='t-ZTKy']/div/div\"):\n",
    "        full_review1.append(k.text.replace('\\n',' '))\n",
    "    \n",
    "    button=driver.find_element_by_xpath(\"//*[contains(text(), 'Next')]\")\n",
    "    driver.execute_script(\"arguments[0].click();\", button)\n",
    "    \n",
    "    time.sleep(2)"
   ]
  },
  {
   "cell_type": "code",
   "execution_count": 22,
   "id": "558cdc13",
   "metadata": {},
   "outputs": [
    {
     "data": {
      "text/plain": [
       "(2599, 2599)"
      ]
     },
     "execution_count": 22,
     "metadata": {},
     "output_type": "execute_result"
    }
   ],
   "source": [
    "len(ratings1),len(full_review1)"
   ]
  },
  {
   "cell_type": "markdown",
   "id": "029d62e9",
   "metadata": {},
   "source": [
    "# Mobile Phones"
   ]
  },
  {
   "cell_type": "code",
   "execution_count": 23,
   "id": "9034027c",
   "metadata": {},
   "outputs": [],
   "source": [
    "# Scraping Rating and Reviews of Mobile phones from URL\n",
    "url='https://www.flipkart.com/motorola-e40-carbon-gray-64-gb/product-reviews/itm0ca635007c9e2?pid=MOBG2EMWUMUFGSZE&lid=LSTMOBG2EMWUMUFGSZE5BRN80&marketplace=FLIPKART'\n",
    "# send get request to the webpage server to get the source code of the page\n",
    "driver.get(url)\n",
    "time.sleep(4)"
   ]
  },
  {
   "cell_type": "code",
   "execution_count": 24,
   "id": "45302dd3",
   "metadata": {},
   "outputs": [],
   "source": [
    "# creating empty lists\n",
    "ratings2=[]\n",
    "full_review2=[]"
   ]
  },
  {
   "cell_type": "code",
   "execution_count": 25,
   "id": "35fe3133",
   "metadata": {},
   "outputs": [
    {
     "name": "stderr",
     "output_type": "stream",
     "text": [
      "  0%|                                                                                           | 0/35 [00:00<?, ?it/s]<ipython-input-25-9a0abda0f7f3>:2: DeprecationWarning: find_elements_by_* commands are deprecated. Please use find_elements() instead\n",
      "  for j in driver.find_elements_by_xpath(\"//div[@class='_3LWZlK _1BLPMq' or @class='_3LWZlK _32lA32 _1BLPMq' or @class='_3LWZlK _1rdVr6 _1BLPMq']\"):\n",
      "<ipython-input-25-9a0abda0f7f3>:5: DeprecationWarning: find_elements_by_* commands are deprecated. Please use find_elements() instead\n",
      "  for k in driver.find_elements_by_xpath(\"//div[@class='t-ZTKy']/div/div\"):\n",
      "<ipython-input-25-9a0abda0f7f3>:8: DeprecationWarning: find_element_by_* commands are deprecated. Please use find_element() instead\n",
      "  button=driver.find_element_by_xpath(\"//*[contains(text(), 'Next')]\")\n",
      "100%|██████████████████████████████████████████████████████████████████████████████████| 35/35 [01:21<00:00,  2.32s/it]\n"
     ]
    }
   ],
   "source": [
    "for i in progressbar(range(0,35)): \n",
    "    for j in driver.find_elements_by_xpath(\"//div[@class='_3LWZlK _1BLPMq' or @class='_3LWZlK _32lA32 _1BLPMq' or @class='_3LWZlK _1rdVr6 _1BLPMq']\"):\n",
    "        ratings2.append(j.text)\n",
    "        \n",
    "    for k in driver.find_elements_by_xpath(\"//div[@class='t-ZTKy']/div/div\"):\n",
    "        full_review2.append(k.text.replace('\\n',' '))\n",
    "    \n",
    "    button=driver.find_element_by_xpath(\"//*[contains(text(), 'Next')]\")\n",
    "    driver.execute_script(\"arguments[0].click();\", button)\n",
    "    \n",
    "    time.sleep(2)"
   ]
  },
  {
   "cell_type": "code",
   "execution_count": 26,
   "id": "3dd24e8c",
   "metadata": {},
   "outputs": [],
   "source": [
    "# send get request to the webpage server to get the source code of the page\n",
    "driver.get(url)\n",
    "time.sleep(4)"
   ]
  },
  {
   "cell_type": "code",
   "execution_count": 27,
   "id": "21f796be",
   "metadata": {},
   "outputs": [
    {
     "name": "stderr",
     "output_type": "stream",
     "text": [
      "  0%|                                                                                           | 0/30 [00:00<?, ?it/s]<ipython-input-27-d678ee3f0382>:2: DeprecationWarning: find_elements_by_* commands are deprecated. Please use find_elements() instead\n",
      "  for j in driver.find_elements_by_xpath(\"//div[@class='_3LWZlK _1BLPMq' or @class='_3LWZlK _32lA32 _1BLPMq' or @class='_3LWZlK _1rdVr6 _1BLPMq']\"):\n",
      "<ipython-input-27-d678ee3f0382>:5: DeprecationWarning: find_elements_by_* commands are deprecated. Please use find_elements() instead\n",
      "  for k in driver.find_elements_by_xpath(\"//div[@class='t-ZTKy']/div/div\"):\n",
      "<ipython-input-27-d678ee3f0382>:8: DeprecationWarning: find_element_by_* commands are deprecated. Please use find_element() instead\n",
      "  button=driver.find_element_by_xpath(\"//*[contains(text(), 'Next')]\")\n",
      "100%|██████████████████████████████████████████████████████████████████████████████████| 30/30 [01:12<00:00,  2.41s/it]\n"
     ]
    }
   ],
   "source": [
    "for i in progressbar(range(0,30)): \n",
    "    for j in driver.find_elements_by_xpath(\"//div[@class='_3LWZlK _1BLPMq' or @class='_3LWZlK _32lA32 _1BLPMq' or @class='_3LWZlK _1rdVr6 _1BLPMq']\"):\n",
    "        ratings2.append(j.text)\n",
    "        \n",
    "    for k in driver.find_elements_by_xpath(\"//div[@class='t-ZTKy']/div/div\"):\n",
    "        full_review2.append(k.text.replace('\\n',' '))\n",
    "    \n",
    "    button=driver.find_element_by_xpath(\"//*[contains(text(), 'Next')]\")\n",
    "    driver.execute_script(\"arguments[0].click();\", button)\n",
    "    \n",
    "    time.sleep(2)"
   ]
  },
  {
   "cell_type": "code",
   "execution_count": 28,
   "id": "ac196abc",
   "metadata": {},
   "outputs": [],
   "source": [
    "# Scraping Rating and Reviews of Mobile phones from different URL\n",
    "url='https://www.flipkart.com/apple-iphone-12-blue-128-gb/product-reviews/itm02853ae92e90a?pid=MOBFWBYZKPTZF9VG&lid=LSTMOBFWBYZKPTZF9VGIFSM7T&marketplace=FLIPKART'\n",
    "# send get request to the webpage server to get the source code of the page\n",
    "driver.get(url)\n",
    "time.sleep(4)"
   ]
  },
  {
   "cell_type": "code",
   "execution_count": 29,
   "id": "94c9e1df",
   "metadata": {},
   "outputs": [
    {
     "name": "stderr",
     "output_type": "stream",
     "text": [
      "  0%|                                                                                           | 0/80 [00:00<?, ?it/s]<ipython-input-29-ba84473e38ab>:2: DeprecationWarning: find_elements_by_* commands are deprecated. Please use find_elements() instead\n",
      "  for j in driver.find_elements_by_xpath(\"//div[@class='_3LWZlK _1BLPMq' or @class='_3LWZlK _32lA32 _1BLPMq' or @class='_3LWZlK _1rdVr6 _1BLPMq']\"):\n",
      "<ipython-input-29-ba84473e38ab>:5: DeprecationWarning: find_elements_by_* commands are deprecated. Please use find_elements() instead\n",
      "  for k in driver.find_elements_by_xpath(\"//div[@class='t-ZTKy']/div/div\"):\n",
      "<ipython-input-29-ba84473e38ab>:8: DeprecationWarning: find_element_by_* commands are deprecated. Please use find_element() instead\n",
      "  button=driver.find_element_by_xpath(\"//*[contains(text(), 'Next')]\")\n",
      "100%|██████████████████████████████████████████████████████████████████████████████████| 80/80 [03:06<00:00,  2.33s/it]\n"
     ]
    }
   ],
   "source": [
    "for i in progressbar(range(0,80)): \n",
    "    for j in driver.find_elements_by_xpath(\"//div[@class='_3LWZlK _1BLPMq' or @class='_3LWZlK _32lA32 _1BLPMq' or @class='_3LWZlK _1rdVr6 _1BLPMq']\"):\n",
    "        ratings2.append(j.text)\n",
    "        \n",
    "    for k in driver.find_elements_by_xpath(\"//div[@class='t-ZTKy']/div/div\"):\n",
    "        full_review2.append(k.text.replace('\\n',' '))\n",
    "    \n",
    "    button=driver.find_element_by_xpath(\"//*[contains(text(), 'Next')]\")\n",
    "    driver.execute_script(\"arguments[0].click();\", button)\n",
    "    \n",
    "    time.sleep(2)"
   ]
  },
  {
   "cell_type": "code",
   "execution_count": 32,
   "id": "ca54c4b2",
   "metadata": {},
   "outputs": [],
   "source": [
    "# Scraping Rating and Reviews of Mobile phones from different URL\n",
    "url='https://www.flipkart.com/vivo-y12s-glacier-blue-32-gb/product-reviews/itmf919e62319b1e?pid=MOBFYPJHZ7USNBZV&lid=LSTMOBFYPJHZ7USNBZVSAS2UP&marketplace=FLIPKART'\n",
    "# opening the webpage through our driver\n",
    "driver.get(url)\n",
    "time.sleep(4)"
   ]
  },
  {
   "cell_type": "code",
   "execution_count": 33,
   "id": "e9d00ac1",
   "metadata": {},
   "outputs": [
    {
     "name": "stderr",
     "output_type": "stream",
     "text": [
      "  0%|                                                                                           | 0/99 [00:00<?, ?it/s]<ipython-input-33-40fdd4e20802>:2: DeprecationWarning: find_elements_by_* commands are deprecated. Please use find_elements() instead\n",
      "  for j in driver.find_elements_by_xpath(\"//div[@class='_3LWZlK _1BLPMq' or @class='_3LWZlK _32lA32 _1BLPMq' or @class='_3LWZlK _1rdVr6 _1BLPMq']\"):\n",
      "<ipython-input-33-40fdd4e20802>:5: DeprecationWarning: find_elements_by_* commands are deprecated. Please use find_elements() instead\n",
      "  for k in driver.find_elements_by_xpath(\"//div[@class='t-ZTKy']/div/div\"):\n",
      "<ipython-input-33-40fdd4e20802>:8: DeprecationWarning: find_element_by_* commands are deprecated. Please use find_element() instead\n",
      "  button=driver.find_element_by_xpath(\"//*[contains(text(), 'Next')]\")\n",
      "100%|██████████████████████████████████████████████████████████████████████████████████| 99/99 [03:59<00:00,  2.42s/it]\n"
     ]
    }
   ],
   "source": [
    "for i in progressbar(range(0,99)): \n",
    "    for j in driver.find_elements_by_xpath(\"//div[@class='_3LWZlK _1BLPMq' or @class='_3LWZlK _32lA32 _1BLPMq' or @class='_3LWZlK _1rdVr6 _1BLPMq']\"):\n",
    "        ratings2.append(j.text)\n",
    "        \n",
    "    for k in driver.find_elements_by_xpath(\"//div[@class='t-ZTKy']/div/div\"):\n",
    "        full_review2.append(k.text.replace('\\n',' '))\n",
    "    \n",
    "    button=driver.find_element_by_xpath(\"//*[contains(text(), 'Next')]\")\n",
    "    driver.execute_script(\"arguments[0].click();\", button)\n",
    "    \n",
    "    time.sleep(2)"
   ]
  },
  {
   "cell_type": "code",
   "execution_count": 34,
   "id": "7b93bdf5",
   "metadata": {},
   "outputs": [],
   "source": [
    "# Scraping Rating and Reviews of Mobile phones from different URL\n",
    "url='https://www.flipkart.com/samsung-galaxy-f12-sea-green-64-gb/product-reviews/itm4d3582cd695fd?pid=MOBGFG794YPQ9RAE&lid=LSTMOBGFG794YPQ9RAEGUPPTW&marketplace=FLIPKART'\n",
    "# send get request to the webpage server to get the source code of the page\n",
    "driver.get(url)\n",
    "time.sleep(4)"
   ]
  },
  {
   "cell_type": "code",
   "execution_count": 35,
   "id": "bb80d3dd",
   "metadata": {},
   "outputs": [
    {
     "name": "stderr",
     "output_type": "stream",
     "text": [
      "  0%|                                                                                          | 0/200 [00:00<?, ?it/s]<ipython-input-35-7c92ef83e2b7>:2: DeprecationWarning: find_elements_by_* commands are deprecated. Please use find_elements() instead\n",
      "  for j in driver.find_elements_by_xpath(\"//div[@class='_3LWZlK _1BLPMq' or @class='_3LWZlK _32lA32 _1BLPMq' or @class='_3LWZlK _1rdVr6 _1BLPMq']\"):\n",
      "<ipython-input-35-7c92ef83e2b7>:5: DeprecationWarning: find_elements_by_* commands are deprecated. Please use find_elements() instead\n",
      "  for k in driver.find_elements_by_xpath(\"//div[@class='t-ZTKy']/div/div\"):\n",
      "<ipython-input-35-7c92ef83e2b7>:8: DeprecationWarning: find_element_by_* commands are deprecated. Please use find_element() instead\n",
      "  button=driver.find_element_by_xpath(\"//*[contains(text(), 'Next')]\")\n",
      "100%|████████████████████████████████████████████████████████████████████████████████| 200/200 [08:05<00:00,  2.43s/it]\n"
     ]
    }
   ],
   "source": [
    "for i in progressbar(range(0,200)): \n",
    "    for j in driver.find_elements_by_xpath(\"//div[@class='_3LWZlK _1BLPMq' or @class='_3LWZlK _32lA32 _1BLPMq' or @class='_3LWZlK _1rdVr6 _1BLPMq']\"):\n",
    "        ratings2.append(j.text)\n",
    "        \n",
    "    for k in driver.find_elements_by_xpath(\"//div[@class='t-ZTKy']/div/div\"):\n",
    "        full_review2.append(k.text.replace('\\n',' '))\n",
    "    \n",
    "    button=driver.find_element_by_xpath(\"//*[contains(text(), 'Next')]\")\n",
    "    driver.execute_script(\"arguments[0].click();\", button)\n",
    "    \n",
    "    time.sleep(2)"
   ]
  },
  {
   "cell_type": "code",
   "execution_count": 36,
   "id": "158afff1",
   "metadata": {},
   "outputs": [
    {
     "data": {
      "text/plain": [
       "(4395, 4395)"
      ]
     },
     "execution_count": 36,
     "metadata": {},
     "output_type": "execute_result"
    }
   ],
   "source": [
    "len(ratings2),len(full_review2)"
   ]
  },
  {
   "cell_type": "markdown",
   "id": "5feb84b9",
   "metadata": {},
   "source": [
    "# HeadPhones"
   ]
  },
  {
   "cell_type": "code",
   "execution_count": 37,
   "id": "be9162d3",
   "metadata": {},
   "outputs": [],
   "source": [
    "# Scraping Rating and Reviews of Headphones from different URL\n",
    "url='https://www.flipkart.com/mivi-collar-classic-neckband-fast-charging-bluetooth-headset/product-reviews/itm0201c1801ebe9?pid=ACCGFGJUH6WWTJG3&lid=LSTACCGFGJUH6WWTJG3MLICEL&marketplace=FLIPKART'\n",
    "# send get request to the webpage server to get the source code of the page\n",
    "driver.get(url)\n",
    "time.sleep(4)"
   ]
  },
  {
   "cell_type": "code",
   "execution_count": 38,
   "id": "24ee428a",
   "metadata": {},
   "outputs": [],
   "source": [
    "# creating empty lists\n",
    "ratings3=[]\n",
    "full_review3=[]"
   ]
  },
  {
   "cell_type": "code",
   "execution_count": 39,
   "id": "7be41430",
   "metadata": {},
   "outputs": [
    {
     "name": "stderr",
     "output_type": "stream",
     "text": [
      "  0%|                                                                                          | 0/100 [00:00<?, ?it/s]<ipython-input-39-549314fd3d5a>:2: DeprecationWarning: find_elements_by_* commands are deprecated. Please use find_elements() instead\n",
      "  for j in driver.find_elements_by_xpath(\"//div[@class='_3LWZlK _1BLPMq' or @class='_3LWZlK _32lA32 _1BLPMq' or @class='_3LWZlK _1rdVr6 _1BLPMq']\"):\n",
      "<ipython-input-39-549314fd3d5a>:5: DeprecationWarning: find_elements_by_* commands are deprecated. Please use find_elements() instead\n",
      "  for k in driver.find_elements_by_xpath(\"//div[@class='t-ZTKy']/div/div\"):\n",
      "<ipython-input-39-549314fd3d5a>:8: DeprecationWarning: find_element_by_* commands are deprecated. Please use find_element() instead\n",
      "  button=driver.find_element_by_xpath(\"//*[contains(text(), 'Next')]\")\n",
      "100%|████████████████████████████████████████████████████████████████████████████████| 100/100 [04:03<00:00,  2.43s/it]\n"
     ]
    }
   ],
   "source": [
    "for i in progressbar(range(0,100)): \n",
    "    for j in driver.find_elements_by_xpath(\"//div[@class='_3LWZlK _1BLPMq' or @class='_3LWZlK _32lA32 _1BLPMq' or @class='_3LWZlK _1rdVr6 _1BLPMq']\"):\n",
    "        ratings3.append(j.text)\n",
    "        \n",
    "    for k in driver.find_elements_by_xpath(\"//div[@class='t-ZTKy']/div/div\"):\n",
    "        full_review3.append(k.text.replace('\\n',' '))\n",
    "    \n",
    "    button=driver.find_element_by_xpath(\"//*[contains(text(), 'Next')]\")\n",
    "    driver.execute_script(\"arguments[0].click();\", button)\n",
    "    \n",
    "    time.sleep(2)"
   ]
  },
  {
   "cell_type": "code",
   "execution_count": 40,
   "id": "7ea9ba80",
   "metadata": {},
   "outputs": [],
   "source": [
    "# Scraping Rating and Reviews of Headphones from different URL\n",
    "url='https://www.flipkart.com/boat-rockerz-255f-pro-bluetooth-headset/product-reviews/itm941568a62c9f1?pid=ACCFZ95M5JTZQH3F&lid=LSTACCFZ95M5JTZQH3FVDTCRS&marketplace=FLIPKART'\n",
    "# send get request to the webpage server to get the source code of the page\n",
    "driver.get(url)\n",
    "time.sleep(4)"
   ]
  },
  {
   "cell_type": "code",
   "execution_count": 41,
   "id": "7a557a34",
   "metadata": {},
   "outputs": [
    {
     "name": "stderr",
     "output_type": "stream",
     "text": [
      "  0%|                                                                                          | 0/150 [00:00<?, ?it/s]<ipython-input-41-50f55bf3c6ad>:2: DeprecationWarning: find_elements_by_* commands are deprecated. Please use find_elements() instead\n",
      "  for j in driver.find_elements_by_xpath(\"//div[@class='_3LWZlK _1BLPMq' or @class='_3LWZlK _32lA32 _1BLPMq' or @class='_3LWZlK _1rdVr6 _1BLPMq']\"):\n",
      "<ipython-input-41-50f55bf3c6ad>:5: DeprecationWarning: find_elements_by_* commands are deprecated. Please use find_elements() instead\n",
      "  for k in driver.find_elements_by_xpath(\"//div[@class='t-ZTKy']/div/div\"):\n",
      "<ipython-input-41-50f55bf3c6ad>:8: DeprecationWarning: find_element_by_* commands are deprecated. Please use find_element() instead\n",
      "  button=driver.find_element_by_xpath(\"//*[contains(text(), 'Next')]\")\n",
      "100%|████████████████████████████████████████████████████████████████████████████████| 150/150 [05:43<00:00,  2.29s/it]\n"
     ]
    }
   ],
   "source": [
    "for i in progressbar(range(0,150)): \n",
    "    for j in driver.find_elements_by_xpath(\"//div[@class='_3LWZlK _1BLPMq' or @class='_3LWZlK _32lA32 _1BLPMq' or @class='_3LWZlK _1rdVr6 _1BLPMq']\"):\n",
    "        ratings3.append(j.text)\n",
    "        \n",
    "    for k in driver.find_elements_by_xpath(\"//div[@class='t-ZTKy']/div/div\"):\n",
    "        full_review3.append(k.text.replace('\\n',' '))\n",
    "    \n",
    "    button=driver.find_element_by_xpath(\"//*[contains(text(), 'Next')]\")\n",
    "    driver.execute_script(\"arguments[0].click();\", button)\n",
    "    \n",
    "    time.sleep(2)"
   ]
  },
  {
   "cell_type": "code",
   "execution_count": 42,
   "id": "dde8f78f",
   "metadata": {},
   "outputs": [],
   "source": [
    "# Scraping Rating and Reviews of Headphones from different URL\n",
    "url='https://www.flipkart.com/oneplus-bullets-wireless-z-bass-bluetooth-headset/product-reviews/itmc804703e0785e?pid=ACCFVA3KZ2EYMYX3&lid=LSTACCFVA3KZ2EYMYX3C5TCKH&marketplace=FLIPKART'\n",
    "# send get request to the webpage server to get the source code of the page\n",
    "driver.get(url)\n",
    "time.sleep(4)"
   ]
  },
  {
   "cell_type": "code",
   "execution_count": 43,
   "id": "a5da31b5",
   "metadata": {},
   "outputs": [
    {
     "name": "stderr",
     "output_type": "stream",
     "text": [
      "  0%|                                                                                          | 0/100 [00:00<?, ?it/s]<ipython-input-43-549314fd3d5a>:2: DeprecationWarning: find_elements_by_* commands are deprecated. Please use find_elements() instead\n",
      "  for j in driver.find_elements_by_xpath(\"//div[@class='_3LWZlK _1BLPMq' or @class='_3LWZlK _32lA32 _1BLPMq' or @class='_3LWZlK _1rdVr6 _1BLPMq']\"):\n",
      "<ipython-input-43-549314fd3d5a>:5: DeprecationWarning: find_elements_by_* commands are deprecated. Please use find_elements() instead\n",
      "  for k in driver.find_elements_by_xpath(\"//div[@class='t-ZTKy']/div/div\"):\n",
      "<ipython-input-43-549314fd3d5a>:8: DeprecationWarning: find_element_by_* commands are deprecated. Please use find_element() instead\n",
      "  button=driver.find_element_by_xpath(\"//*[contains(text(), 'Next')]\")\n",
      "100%|████████████████████████████████████████████████████████████████████████████████| 100/100 [03:48<00:00,  2.29s/it]\n"
     ]
    }
   ],
   "source": [
    "for i in progressbar(range(0,100)): \n",
    "    for j in driver.find_elements_by_xpath(\"//div[@class='_3LWZlK _1BLPMq' or @class='_3LWZlK _32lA32 _1BLPMq' or @class='_3LWZlK _1rdVr6 _1BLPMq']\"):\n",
    "        ratings3.append(j.text)\n",
    "        \n",
    "    for k in driver.find_elements_by_xpath(\"//div[@class='t-ZTKy']/div/div\"):\n",
    "        full_review3.append(k.text.replace('\\n',' '))\n",
    "    \n",
    "    button=driver.find_element_by_xpath(\"//*[contains(text(), 'Next')]\")\n",
    "    driver.execute_script(\"arguments[0].click();\", button)\n",
    "    \n",
    "    time.sleep(2)"
   ]
  },
  {
   "cell_type": "code",
   "execution_count": 44,
   "id": "d6a29f6e",
   "metadata": {},
   "outputs": [
    {
     "data": {
      "text/plain": [
       "(3486, 3486)"
      ]
     },
     "execution_count": 44,
     "metadata": {},
     "output_type": "execute_result"
    }
   ],
   "source": [
    "len(ratings3),len(full_review3)"
   ]
  },
  {
   "cell_type": "markdown",
   "id": "4cfe0ce3",
   "metadata": {},
   "source": [
    "# Smart Watches"
   ]
  },
  {
   "cell_type": "code",
   "execution_count": 45,
   "id": "d8342249",
   "metadata": {},
   "outputs": [],
   "source": [
    "# Scraping Rating and Reviews of Smart Watches from different URL\n",
    "url='https://www.flipkart.com/dizo-watch-2-by-realme-techlife/product-reviews/itm59913ba399d56?pid=SMWG6EFSBH67Z3EJ&lid=LSTSMWG6EFSBH67Z3EJKYCN9Y&marketplace=FLIPKART'\n",
    "# send get request to the webpage server to get the source code of the page\n",
    "driver.get(url)\n",
    "time.sleep(4)"
   ]
  },
  {
   "cell_type": "code",
   "execution_count": 46,
   "id": "59a9a299",
   "metadata": {},
   "outputs": [],
   "source": [
    "# creating empty lists\n",
    "ratings4=[]\n",
    "full_review4=[]"
   ]
  },
  {
   "cell_type": "code",
   "execution_count": 47,
   "id": "b1cf8508",
   "metadata": {},
   "outputs": [
    {
     "name": "stderr",
     "output_type": "stream",
     "text": [
      "  0%|                                                                                          | 0/150 [00:00<?, ?it/s]<ipython-input-47-820c5af81d74>:2: DeprecationWarning: find_elements_by_* commands are deprecated. Please use find_elements() instead\n",
      "  for j in driver.find_elements_by_xpath(\"//div[@class='_3LWZlK _1BLPMq' or @class='_3LWZlK _32lA32 _1BLPMq' or @class='_3LWZlK _1rdVr6 _1BLPMq']\"):\n",
      "<ipython-input-47-820c5af81d74>:5: DeprecationWarning: find_elements_by_* commands are deprecated. Please use find_elements() instead\n",
      "  for k in driver.find_elements_by_xpath(\"//div[@class='t-ZTKy']/div/div\"):\n",
      "<ipython-input-47-820c5af81d74>:8: DeprecationWarning: find_element_by_* commands are deprecated. Please use find_element() instead\n",
      "  button=driver.find_element_by_xpath(\"//*[contains(text(), 'Next')]\")\n",
      "100%|████████████████████████████████████████████████████████████████████████████████| 150/150 [05:46<00:00,  2.31s/it]\n"
     ]
    }
   ],
   "source": [
    "for i in progressbar(range(0,150)): \n",
    "    for j in driver.find_elements_by_xpath(\"//div[@class='_3LWZlK _1BLPMq' or @class='_3LWZlK _32lA32 _1BLPMq' or @class='_3LWZlK _1rdVr6 _1BLPMq']\"):\n",
    "        ratings4.append(j.text)\n",
    "        \n",
    "    for k in driver.find_elements_by_xpath(\"//div[@class='t-ZTKy']/div/div\"):\n",
    "        full_review4.append(k.text.replace('\\n',' '))\n",
    "    \n",
    "    button=driver.find_element_by_xpath(\"//*[contains(text(), 'Next')]\")\n",
    "    driver.execute_script(\"arguments[0].click();\", button)\n",
    "    \n",
    "    time.sleep(2)"
   ]
  },
  {
   "cell_type": "code",
   "execution_count": 48,
   "id": "240a3c16",
   "metadata": {},
   "outputs": [],
   "source": [
    "# Scraping Rating and Reviews of Smart Watches from different URL\n",
    "url='https://www.flipkart.com/boat-storm-smartwatch/product-reviews/itm215a48c547168?pid=SMWG3EC4KCEFNNKH&lid=LSTSMWG3EC4KCEFNNKHJXJOIN&marketplace=FLIPKART'\n",
    "# send get request to the webpage server to get the source code of the page\n",
    "driver.get(url)\n",
    "time.sleep(4)"
   ]
  },
  {
   "cell_type": "code",
   "execution_count": 49,
   "id": "93fa1000",
   "metadata": {},
   "outputs": [
    {
     "name": "stderr",
     "output_type": "stream",
     "text": [
      "  0%|                                                                                          | 0/200 [00:00<?, ?it/s]<ipython-input-49-6240d5fa722f>:2: DeprecationWarning: find_elements_by_* commands are deprecated. Please use find_elements() instead\n",
      "  for j in driver.find_elements_by_xpath(\"//div[@class='_3LWZlK _1BLPMq' or @class='_3LWZlK _32lA32 _1BLPMq' or @class='_3LWZlK _1rdVr6 _1BLPMq']\"):\n",
      "<ipython-input-49-6240d5fa722f>:5: DeprecationWarning: find_elements_by_* commands are deprecated. Please use find_elements() instead\n",
      "  for k in driver.find_elements_by_xpath(\"//div[@class='t-ZTKy']/div/div\"):\n",
      "<ipython-input-49-6240d5fa722f>:8: DeprecationWarning: find_element_by_* commands are deprecated. Please use find_element() instead\n",
      "  button=driver.find_element_by_xpath(\"//*[contains(text(), 'Next')]\")\n",
      "100%|████████████████████████████████████████████████████████████████████████████████| 200/200 [07:37<00:00,  2.29s/it]\n"
     ]
    }
   ],
   "source": [
    "for i in progressbar(range(0,200)): \n",
    "    for j in driver.find_elements_by_xpath(\"//div[@class='_3LWZlK _1BLPMq' or @class='_3LWZlK _32lA32 _1BLPMq' or @class='_3LWZlK _1rdVr6 _1BLPMq']\"):\n",
    "        ratings4.append(j.text)\n",
    "        \n",
    "    for k in driver.find_elements_by_xpath(\"//div[@class='t-ZTKy']/div/div\"):\n",
    "        full_review4.append(k.text.replace('\\n',' '))\n",
    "    \n",
    "    button=driver.find_element_by_xpath(\"//*[contains(text(), 'Next')]\")\n",
    "    driver.execute_script(\"arguments[0].click();\", button)\n",
    "    \n",
    "    time.sleep(2)"
   ]
  },
  {
   "cell_type": "code",
   "execution_count": 50,
   "id": "59fd16f4",
   "metadata": {},
   "outputs": [],
   "source": [
    "# Scraping Rating and Reviews of Smart Watches from different URL\n",
    "url='https://www.flipkart.com/realme-watch-2/product-reviews/itm44d90218d1891?pid=SMWG4WFWZABX4VQF&lid=LSTSMWG4WFWZABX4VQFXF6IVW&marketplace=FLIPKART'\n",
    "# send get request to the webpage server to get the source code of the page\n",
    "driver.get(url)\n",
    "time.sleep(4)"
   ]
  },
  {
   "cell_type": "code",
   "execution_count": 51,
   "id": "99b72f87",
   "metadata": {},
   "outputs": [
    {
     "name": "stderr",
     "output_type": "stream",
     "text": [
      "  0%|                                                                                          | 0/110 [00:00<?, ?it/s]<ipython-input-51-008d2af8c720>:2: DeprecationWarning: find_elements_by_* commands are deprecated. Please use find_elements() instead\n",
      "  for j in driver.find_elements_by_xpath(\"//div[@class='_3LWZlK _1BLPMq' or @class='_3LWZlK _32lA32 _1BLPMq' or @class='_3LWZlK _1rdVr6 _1BLPMq']\"):\n",
      "<ipython-input-51-008d2af8c720>:5: DeprecationWarning: find_elements_by_* commands are deprecated. Please use find_elements() instead\n",
      "  for k in driver.find_elements_by_xpath(\"//div[@class='t-ZTKy']/div/div\"):\n",
      "<ipython-input-51-008d2af8c720>:8: DeprecationWarning: find_element_by_* commands are deprecated. Please use find_element() instead\n",
      "  button=driver.find_element_by_xpath(\"//*[contains(text(), 'Next')]\")\n",
      "100%|████████████████████████████████████████████████████████████████████████████████| 110/110 [04:17<00:00,  2.34s/it]\n"
     ]
    }
   ],
   "source": [
    "for i in progressbar(range(0,110)): \n",
    "    for j in driver.find_elements_by_xpath(\"//div[@class='_3LWZlK _1BLPMq' or @class='_3LWZlK _32lA32 _1BLPMq' or @class='_3LWZlK _1rdVr6 _1BLPMq']\"):\n",
    "        ratings4.append(j.text)\n",
    "        \n",
    "    for k in driver.find_elements_by_xpath(\"//div[@class='t-ZTKy']/div/div\"):\n",
    "        full_review4.append(k.text.replace('\\n',' '))\n",
    "    \n",
    "    button=driver.find_element_by_xpath(\"//*[contains(text(), 'Next')]\")\n",
    "    driver.execute_script(\"arguments[0].click();\", button)\n",
    "    \n",
    "    time.sleep(2)"
   ]
  },
  {
   "cell_type": "code",
   "execution_count": 52,
   "id": "9ff1cfd1",
   "metadata": {},
   "outputs": [
    {
     "data": {
      "text/plain": [
       "(4333, 4333)"
      ]
     },
     "execution_count": 52,
     "metadata": {},
     "output_type": "execute_result"
    }
   ],
   "source": [
    "len(ratings4),len(full_review4)"
   ]
  },
  {
   "cell_type": "markdown",
   "id": "590df06b",
   "metadata": {},
   "source": [
    "# Professional Cameras"
   ]
  },
  {
   "cell_type": "code",
   "execution_count": 53,
   "id": "d3f010a6",
   "metadata": {},
   "outputs": [],
   "source": [
    "# Scraping Rating and Reviews of Professional Cameras from different URL\n",
    "url='https://www.flipkart.com/canon-eos-3000d-dslr-camera-1-body-18-55-mm-lens/product-reviews/itm6f665fea97bc2?pid=CAMF3DHJURPEMNRN&lid=LSTCAMF3DHJURPEMNRNYD4BKP&marketplace=FLIPKART'\n",
    "# send get request to the webpage server to get the source code of the page\n",
    "driver.get(url)\n",
    "time.sleep(4)"
   ]
  },
  {
   "cell_type": "code",
   "execution_count": 54,
   "id": "8d4ba77b",
   "metadata": {},
   "outputs": [],
   "source": [
    "# creating empty lists\n",
    "ratings5=[]\n",
    "full_review5=[]"
   ]
  },
  {
   "cell_type": "code",
   "execution_count": 55,
   "id": "f9857e18",
   "metadata": {},
   "outputs": [
    {
     "name": "stderr",
     "output_type": "stream",
     "text": [
      "  0%|                                                                                          | 0/200 [00:00<?, ?it/s]<ipython-input-55-be885f7dd5a4>:2: DeprecationWarning: find_elements_by_* commands are deprecated. Please use find_elements() instead\n",
      "  for j in driver.find_elements_by_xpath(\"//div[@class='_3LWZlK _1BLPMq' or @class='_3LWZlK _32lA32 _1BLPMq' or @class='_3LWZlK _1rdVr6 _1BLPMq']\"):\n",
      "<ipython-input-55-be885f7dd5a4>:5: DeprecationWarning: find_elements_by_* commands are deprecated. Please use find_elements() instead\n",
      "  for k in driver.find_elements_by_xpath(\"//div[@class='t-ZTKy']/div/div\"):\n",
      "<ipython-input-55-be885f7dd5a4>:8: DeprecationWarning: find_element_by_* commands are deprecated. Please use find_element() instead\n",
      "  button=driver.find_element_by_xpath(\"//*[contains(text(), 'Next')]\")\n",
      "100%|████████████████████████████████████████████████████████████████████████████████| 200/200 [07:37<00:00,  2.29s/it]\n"
     ]
    }
   ],
   "source": [
    "for i in progressbar(range(0,200)): \n",
    "    for j in driver.find_elements_by_xpath(\"//div[@class='_3LWZlK _1BLPMq' or @class='_3LWZlK _32lA32 _1BLPMq' or @class='_3LWZlK _1rdVr6 _1BLPMq']\"):\n",
    "        ratings5.append(j.text)\n",
    "        \n",
    "    for k in driver.find_elements_by_xpath(\"//div[@class='t-ZTKy']/div/div\"):\n",
    "        full_review5.append(k.text.replace('\\n',' '))\n",
    "    \n",
    "    button=driver.find_element_by_xpath(\"//*[contains(text(), 'Next')]\")\n",
    "    driver.execute_script(\"arguments[0].click();\", button)\n",
    "    \n",
    "    time.sleep(2)"
   ]
  },
  {
   "cell_type": "code",
   "execution_count": 56,
   "id": "0b5635da",
   "metadata": {},
   "outputs": [],
   "source": [
    "# Scraping Rating and Reviews of Professional Cameras from different URL\n",
    "url='https://www.flipkart.com/canon-eos-80d-dslr-camera-body-18-135-mm-lens/product-reviews/itm32a5545bf29fe?pid=CAMEHDMX8BPWDGVR&lid=LSTCAMEHDMX8BPWDGVR3AX3UE&marketplace=FLIPKART'\n",
    "# send get request to the webpage server to get the source code of the page\n",
    "driver.get(url)\n",
    "time.sleep(4)"
   ]
  },
  {
   "cell_type": "code",
   "execution_count": 57,
   "id": "21cfd6a3",
   "metadata": {},
   "outputs": [
    {
     "name": "stderr",
     "output_type": "stream",
     "text": [
      "  0%|                                                                                           | 0/11 [00:00<?, ?it/s]<ipython-input-57-74a4acbd418b>:2: DeprecationWarning: find_elements_by_* commands are deprecated. Please use find_elements() instead\n",
      "  for j in driver.find_elements_by_xpath(\"//div[@class='_3LWZlK _1BLPMq' or @class='_3LWZlK _32lA32 _1BLPMq' or @class='_3LWZlK _1rdVr6 _1BLPMq']\"):\n",
      "<ipython-input-57-74a4acbd418b>:5: DeprecationWarning: find_elements_by_* commands are deprecated. Please use find_elements() instead\n",
      "  for k in driver.find_elements_by_xpath(\"//div[@class='t-ZTKy']/div/div\"):\n",
      "<ipython-input-57-74a4acbd418b>:8: DeprecationWarning: find_element_by_* commands are deprecated. Please use find_element() instead\n",
      "  button=driver.find_element_by_xpath(\"//*[contains(text(), 'Next')]\")\n",
      "100%|██████████████████████████████████████████████████████████████████████████████████| 11/11 [00:26<00:00,  2.42s/it]\n"
     ]
    }
   ],
   "source": [
    "for i in progressbar(range(0,11)): \n",
    "    for j in driver.find_elements_by_xpath(\"//div[@class='_3LWZlK _1BLPMq' or @class='_3LWZlK _32lA32 _1BLPMq' or @class='_3LWZlK _1rdVr6 _1BLPMq']\"):\n",
    "        ratings5.append(j.text)\n",
    "        \n",
    "    for k in driver.find_elements_by_xpath(\"//div[@class='t-ZTKy']/div/div\"):\n",
    "        full_review5.append(k.text.replace('\\n',' '))\n",
    "    \n",
    "    button=driver.find_element_by_xpath(\"//*[contains(text(), 'Next')]\")\n",
    "    driver.execute_script(\"arguments[0].click();\", button)\n",
    "    \n",
    "    time.sleep(2)"
   ]
  },
  {
   "cell_type": "code",
   "execution_count": 58,
   "id": "e60d7b16",
   "metadata": {},
   "outputs": [
    {
     "data": {
      "text/plain": [
       "(2110, 2110)"
      ]
     },
     "execution_count": 58,
     "metadata": {},
     "output_type": "execute_result"
    }
   ],
   "source": [
    "len(ratings5),len(full_review5)"
   ]
  },
  {
   "cell_type": "markdown",
   "id": "bb29e442",
   "metadata": {},
   "source": [
    "# Routers"
   ]
  },
  {
   "cell_type": "code",
   "execution_count": 62,
   "id": "7f7369eb",
   "metadata": {},
   "outputs": [],
   "source": [
    "# Scraping Rating and Reviews of Routers from different URL\n",
    "url='https://www.flipkart.com/d-link-dir-819-750-mbps-wireless-router/product-reviews/itmff2hynmhzhtqa?pid=RTRFF2HYYUYHCGGK&lid=LSTRTRFF2HYYUYHCGGKB3BKOG&marketplace=FLIPKART'\n",
    "# send get request to the webpage server to get the source code of the page\n",
    "driver.get(url)\n",
    "time.sleep(4)"
   ]
  },
  {
   "cell_type": "code",
   "execution_count": 63,
   "id": "b3e036bd",
   "metadata": {},
   "outputs": [],
   "source": [
    "# creating empty lists\n",
    "ratings6=[]\n",
    "full_review6=[]"
   ]
  },
  {
   "cell_type": "code",
   "execution_count": 65,
   "id": "a34a21fb",
   "metadata": {},
   "outputs": [
    {
     "name": "stderr",
     "output_type": "stream",
     "text": [
      "  0%|                                                                                          | 0/200 [00:00<?, ?it/s]<ipython-input-65-048dfa2e8a44>:2: DeprecationWarning: find_elements_by_* commands are deprecated. Please use find_elements() instead\n",
      "  for j in driver.find_elements_by_xpath(\"//div[@class='_3LWZlK _1BLPMq' or @class='_3LWZlK _32lA32 _1BLPMq' or @class='_3LWZlK _1rdVr6 _1BLPMq']\"):\n",
      "<ipython-input-65-048dfa2e8a44>:5: DeprecationWarning: find_elements_by_* commands are deprecated. Please use find_elements() instead\n",
      "  for k in driver.find_elements_by_xpath(\"//div[@class='t-ZTKy']/div/div\"):\n",
      "<ipython-input-65-048dfa2e8a44>:8: DeprecationWarning: find_element_by_* commands are deprecated. Please use find_element() instead\n",
      "  button=driver.find_element_by_xpath(\"//*[contains(text(), 'Next')]\")\n",
      "100%|████████████████████████████████████████████████████████████████████████████████| 200/200 [08:03<00:00,  2.42s/it]\n"
     ]
    }
   ],
   "source": [
    "for i in progressbar(range(0,200)): \n",
    "    for j in driver.find_elements_by_xpath(\"//div[@class='_3LWZlK _1BLPMq' or @class='_3LWZlK _32lA32 _1BLPMq' or @class='_3LWZlK _1rdVr6 _1BLPMq']\"):\n",
    "        ratings6.append(j.text)\n",
    "        \n",
    "    for k in driver.find_elements_by_xpath(\"//div[@class='t-ZTKy']/div/div\"):\n",
    "        full_review6.append(k.text.replace('\\n',' '))\n",
    "    \n",
    "    button=driver.find_element_by_xpath(\"//*[contains(text(), 'Next')]\")\n",
    "    driver.execute_script(\"arguments[0].click();\", button)\n",
    "    \n",
    "    time.sleep(2)"
   ]
  },
  {
   "cell_type": "code",
   "execution_count": 66,
   "id": "2c6a9836",
   "metadata": {},
   "outputs": [],
   "source": [
    "# Scraping Rating and Reviews of Routers from different URL\n",
    "url='https://www.flipkart.com/tp-link-tl-wr845n-wireless-n-300-mbps-router/product-reviews/itmek2vgemkzrre3?pid=RTREK2VG4GBDUKFN&lid=LSTRTREK2VG4GBDUKFNWTGK6J&marketplace=FLIPKART'\n",
    "# send get request to the webpage server to get the source code of the page\n",
    "driver.get(url)\n",
    "time.sleep(4)"
   ]
  },
  {
   "cell_type": "code",
   "execution_count": 67,
   "id": "4a3a5bf1",
   "metadata": {},
   "outputs": [
    {
     "name": "stderr",
     "output_type": "stream",
     "text": [
      "  0%|                                                                                          | 0/150 [00:00<?, ?it/s]<ipython-input-67-6dd425984ee2>:2: DeprecationWarning: find_elements_by_* commands are deprecated. Please use find_elements() instead\n",
      "  for j in driver.find_elements_by_xpath(\"//div[@class='_3LWZlK _1BLPMq' or @class='_3LWZlK _32lA32 _1BLPMq' or @class='_3LWZlK _1rdVr6 _1BLPMq']\"):\n",
      "<ipython-input-67-6dd425984ee2>:5: DeprecationWarning: find_elements_by_* commands are deprecated. Please use find_elements() instead\n",
      "  for k in driver.find_elements_by_xpath(\"//div[@class='t-ZTKy']/div/div\"):\n",
      "<ipython-input-67-6dd425984ee2>:8: DeprecationWarning: find_element_by_* commands are deprecated. Please use find_element() instead\n",
      "  button=driver.find_element_by_xpath(\"//*[contains(text(), 'Next')]\")\n",
      "100%|████████████████████████████████████████████████████████████████████████████████| 150/150 [06:04<00:00,  2.43s/it]\n"
     ]
    }
   ],
   "source": [
    "for i in progressbar(range(0,150)): \n",
    "    for j in driver.find_elements_by_xpath(\"//div[@class='_3LWZlK _1BLPMq' or @class='_3LWZlK _32lA32 _1BLPMq' or @class='_3LWZlK _1rdVr6 _1BLPMq']\"):\n",
    "        ratings6.append(j.text)\n",
    "        \n",
    "    for k in driver.find_elements_by_xpath(\"//div[@class='t-ZTKy']/div/div\"):\n",
    "        full_review6.append(k.text.replace('\\n',' '))\n",
    "    \n",
    "    button=driver.find_element_by_xpath(\"//*[contains(text(), 'Next')]\")\n",
    "    driver.execute_script(\"arguments[0].click();\", button)\n",
    "    \n",
    "    time.sleep(2)"
   ]
  },
  {
   "cell_type": "code",
   "execution_count": 68,
   "id": "b3a427c1",
   "metadata": {},
   "outputs": [
    {
     "data": {
      "text/plain": [
       "(3413, 3413)"
      ]
     },
     "execution_count": 68,
     "metadata": {},
     "output_type": "execute_result"
    }
   ],
   "source": [
    "len(ratings6),len(full_review6)"
   ]
  },
  {
   "cell_type": "markdown",
   "id": "deb6dd67",
   "metadata": {},
   "source": [
    "# Home Theater"
   ]
  },
  {
   "cell_type": "code",
   "execution_count": 69,
   "id": "e4958ba4",
   "metadata": {},
   "outputs": [],
   "source": [
    "# Scraping Rating and Reviews of Home Theater from different URL\n",
    "url='https://www.flipkart.com/zebronics-zeb-bt-6590-rucf-65-w-bluetooth-home-theatre/product-reviews/itmdc254e0713966?pid=ACCEFDYCSTWHUDB4&lid=LSTACCEFDYCSTWHUDB46OV2KW&marketplace=FLIPKART'\n",
    "# send get request to the webpage server to get the source code of the page\n",
    "driver.get(url)\n",
    "time.sleep(4)"
   ]
  },
  {
   "cell_type": "code",
   "execution_count": 70,
   "id": "8e8ceea2",
   "metadata": {},
   "outputs": [],
   "source": [
    "# creating empty lists\n",
    "ratings7=[]\n",
    "full_review7=[]"
   ]
  },
  {
   "cell_type": "code",
   "execution_count": 71,
   "id": "93449297",
   "metadata": {},
   "outputs": [
    {
     "name": "stderr",
     "output_type": "stream",
     "text": [
      "  0%|                                                                                          | 0/102 [00:00<?, ?it/s]<ipython-input-71-726195799440>:2: DeprecationWarning: find_elements_by_* commands are deprecated. Please use find_elements() instead\n",
      "  for j in driver.find_elements_by_xpath(\"//div[@class='_3LWZlK _1BLPMq' or @class='_3LWZlK _32lA32 _1BLPMq' or @class='_3LWZlK _1rdVr6 _1BLPMq']\"):\n",
      "<ipython-input-71-726195799440>:5: DeprecationWarning: find_elements_by_* commands are deprecated. Please use find_elements() instead\n",
      "  for k in driver.find_elements_by_xpath(\"//div[@class='t-ZTKy']/div/div\"):\n",
      "<ipython-input-71-726195799440>:8: DeprecationWarning: find_element_by_* commands are deprecated. Please use find_element() instead\n",
      "  button=driver.find_element_by_xpath(\"//*[contains(text(), 'Next')]\")\n",
      "100%|████████████████████████████████████████████████████████████████████████████████| 102/102 [04:07<00:00,  2.43s/it]\n"
     ]
    }
   ],
   "source": [
    "for i in progressbar(range(0,102)): \n",
    "    for j in driver.find_elements_by_xpath(\"//div[@class='_3LWZlK _1BLPMq' or @class='_3LWZlK _32lA32 _1BLPMq' or @class='_3LWZlK _1rdVr6 _1BLPMq']\"):\n",
    "        ratings7.append(j.text)\n",
    "        \n",
    "    for k in driver.find_elements_by_xpath(\"//div[@class='t-ZTKy']/div/div\"):\n",
    "        full_review7.append(k.text.replace('\\n',' '))\n",
    "    \n",
    "    button=driver.find_element_by_xpath(\"//*[contains(text(), 'Next')]\")\n",
    "    driver.execute_script(\"arguments[0].click();\", button)\n",
    "    \n",
    "    time.sleep(2)"
   ]
  },
  {
   "cell_type": "code",
   "execution_count": 72,
   "id": "71fd2213",
   "metadata": {},
   "outputs": [],
   "source": [
    "# Scraping Rating and Reviews of Home Theater from different URL\n",
    "url='https://www.flipkart.com/philips-spa8140b-94-38-w-bluetooth-home-theatre/product-reviews/itmex3yybthtgttg?pid=ACCEX3YYQMVCGVYS&lid=LSTACCEX3YYQMVCGVYSXSUYFY&marketplace=FLIPKART'\n",
    "# send get request to the webpage server to get the source code of the page\n",
    "driver.get(url)\n",
    "time.sleep(4)"
   ]
  },
  {
   "cell_type": "code",
   "execution_count": 73,
   "id": "a1a00527",
   "metadata": {},
   "outputs": [
    {
     "name": "stderr",
     "output_type": "stream",
     "text": [
      "  0%|                                                                                          | 0/125 [00:00<?, ?it/s]<ipython-input-73-613fbc42c39d>:2: DeprecationWarning: find_elements_by_* commands are deprecated. Please use find_elements() instead\n",
      "  for j in driver.find_elements_by_xpath(\"//div[@class='_3LWZlK _1BLPMq' or @class='_3LWZlK _32lA32 _1BLPMq' or @class='_3LWZlK _1rdVr6 _1BLPMq']\"):\n",
      "<ipython-input-73-613fbc42c39d>:5: DeprecationWarning: find_elements_by_* commands are deprecated. Please use find_elements() instead\n",
      "  for k in driver.find_elements_by_xpath(\"//div[@class='t-ZTKy']/div/div\"):\n",
      "<ipython-input-73-613fbc42c39d>:8: DeprecationWarning: find_element_by_* commands are deprecated. Please use find_element() instead\n",
      "  button=driver.find_element_by_xpath(\"//*[contains(text(), 'Next')]\")\n",
      "100%|████████████████████████████████████████████████████████████████████████████████| 125/125 [04:45<00:00,  2.29s/it]\n"
     ]
    }
   ],
   "source": [
    "for i in progressbar(range(0,125)): \n",
    "    for j in driver.find_elements_by_xpath(\"//div[@class='_3LWZlK _1BLPMq' or @class='_3LWZlK _32lA32 _1BLPMq' or @class='_3LWZlK _1rdVr6 _1BLPMq']\"):\n",
    "        ratings7.append(j.text)\n",
    "        \n",
    "    for k in driver.find_elements_by_xpath(\"//div[@class='t-ZTKy']/div/div\"):\n",
    "        full_review7.append(k.text.replace('\\n',' '))\n",
    "    \n",
    "    button=driver.find_element_by_xpath(\"//*[contains(text(), 'Next')]\")\n",
    "    driver.execute_script(\"arguments[0].click();\", button)\n",
    "    \n",
    "    time.sleep(2)"
   ]
  },
  {
   "cell_type": "code",
   "execution_count": 74,
   "id": "199b0ac5",
   "metadata": {},
   "outputs": [
    {
     "data": {
      "text/plain": [
       "(2257, 2257)"
      ]
     },
     "execution_count": 74,
     "metadata": {},
     "output_type": "execute_result"
    }
   ],
   "source": [
    "len(ratings7),len(full_review7)"
   ]
  },
  {
   "cell_type": "code",
   "execution_count": 75,
   "id": "ae7f4b9c",
   "metadata": {},
   "outputs": [],
   "source": [
    "ratings=(ratings1 + ratings2 + ratings3 + ratings4 + ratings5 + ratings6 +ratings7 )"
   ]
  },
  {
   "cell_type": "code",
   "execution_count": 76,
   "id": "7438dd36",
   "metadata": {},
   "outputs": [],
   "source": [
    "full_review=(full_review1 + full_review2 + full_review3 + full_review4 + full_review5 + full_review6 + full_review7 )"
   ]
  },
  {
   "cell_type": "code",
   "execution_count": 77,
   "id": "260cdc1b",
   "metadata": {},
   "outputs": [
    {
     "data": {
      "text/html": [
       "<div>\n",
       "<style scoped>\n",
       "    .dataframe tbody tr th:only-of-type {\n",
       "        vertical-align: middle;\n",
       "    }\n",
       "\n",
       "    .dataframe tbody tr th {\n",
       "        vertical-align: top;\n",
       "    }\n",
       "\n",
       "    .dataframe thead th {\n",
       "        text-align: right;\n",
       "    }\n",
       "</style>\n",
       "<table border=\"1\" class=\"dataframe\">\n",
       "  <thead>\n",
       "    <tr style=\"text-align: right;\">\n",
       "      <th></th>\n",
       "      <th>Ratings</th>\n",
       "      <th>Full Review</th>\n",
       "    </tr>\n",
       "  </thead>\n",
       "  <tbody>\n",
       "    <tr>\n",
       "      <th>0</th>\n",
       "      <td>5</td>\n",
       "      <td>It's very good to this price.....I really than...</td>\n",
       "    </tr>\n",
       "    <tr>\n",
       "      <th>1</th>\n",
       "      <td>5</td>\n",
       "      <td>Seriously awwsm .. pls go for it without any h...</td>\n",
       "    </tr>\n",
       "    <tr>\n",
       "      <th>2</th>\n",
       "      <td>5</td>\n",
       "      <td>Performance are too good and friendly budget a...</td>\n",
       "    </tr>\n",
       "    <tr>\n",
       "      <th>3</th>\n",
       "      <td>4</td>\n",
       "      <td>I am happy with this laptop. Good for basic us...</td>\n",
       "    </tr>\n",
       "    <tr>\n",
       "      <th>4</th>\n",
       "      <td>5</td>\n",
       "      <td>I have just received the laptop today and am v...</td>\n",
       "    </tr>\n",
       "    <tr>\n",
       "      <th>...</th>\n",
       "      <td>...</td>\n",
       "      <td>...</td>\n",
       "    </tr>\n",
       "    <tr>\n",
       "      <th>22588</th>\n",
       "      <td>5</td>\n",
       "      <td>best product ,,i got in rs 2999/- ,,, Philips ...</td>\n",
       "    </tr>\n",
       "    <tr>\n",
       "      <th>22589</th>\n",
       "      <td>5</td>\n",
       "      <td>Good product The best thing in this home theat...</td>\n",
       "    </tr>\n",
       "    <tr>\n",
       "      <th>22590</th>\n",
       "      <td>4</td>\n",
       "      <td>giving review after 1yr of use...  awesome pro...</td>\n",
       "    </tr>\n",
       "    <tr>\n",
       "      <th>22591</th>\n",
       "      <td>5</td>\n",
       "      <td>Awesome......I got it for 3550 in sale and m s...</td>\n",
       "    </tr>\n",
       "    <tr>\n",
       "      <th>22592</th>\n",
       "      <td>5</td>\n",
       "      <td>Sound is very comfortable for ears even in hig...</td>\n",
       "    </tr>\n",
       "  </tbody>\n",
       "</table>\n",
       "<p>22593 rows × 2 columns</p>\n",
       "</div>"
      ],
      "text/plain": [
       "      Ratings                                        Full Review\n",
       "0           5  It's very good to this price.....I really than...\n",
       "1           5  Seriously awwsm .. pls go for it without any h...\n",
       "2           5  Performance are too good and friendly budget a...\n",
       "3           4  I am happy with this laptop. Good for basic us...\n",
       "4           5  I have just received the laptop today and am v...\n",
       "...       ...                                                ...\n",
       "22588       5  best product ,,i got in rs 2999/- ,,, Philips ...\n",
       "22589       5  Good product The best thing in this home theat...\n",
       "22590       4  giving review after 1yr of use...  awesome pro...\n",
       "22591       5  Awesome......I got it for 3550 in sale and m s...\n",
       "22592       5  Sound is very comfortable for ears even in hig...\n",
       "\n",
       "[22593 rows x 2 columns]"
      ]
     },
     "execution_count": 77,
     "metadata": {},
     "output_type": "execute_result"
    }
   ],
   "source": [
    "Prediction=pd.DataFrame({})            # making dataframe\n",
    "Prediction['Ratings']= ratings\n",
    "Prediction['Full Review']= full_review\n",
    "Prediction"
   ]
  },
  {
   "cell_type": "code",
   "execution_count": 81,
   "id": "9e396750",
   "metadata": {},
   "outputs": [],
   "source": [
    "Prediction.to_csv('Review_Prediction.csv')\n"
   ]
  },
  {
   "cell_type": "code",
   "execution_count": 79,
   "id": "14d76ac6",
   "metadata": {},
   "outputs": [],
   "source": [
    "driver.close()"
   ]
  },
  {
   "cell_type": "code",
   "execution_count": null,
   "id": "f07d32ab",
   "metadata": {},
   "outputs": [],
   "source": []
  }
 ],
 "metadata": {
  "kernelspec": {
   "display_name": "Python 3",
   "language": "python",
   "name": "python3"
  },
  "language_info": {
   "codemirror_mode": {
    "name": "ipython",
    "version": 3
   },
   "file_extension": ".py",
   "mimetype": "text/x-python",
   "name": "python",
   "nbconvert_exporter": "python",
   "pygments_lexer": "ipython3",
   "version": "3.8.8"
  }
 },
 "nbformat": 4,
 "nbformat_minor": 5
}
